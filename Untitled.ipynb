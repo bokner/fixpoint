{
 "cells": [
  {
   "cell_type": "code",
   "execution_count": 1,
   "id": "999e6f7e",
   "metadata": {},
   "outputs": [],
   "source": [
    "def is_prime(num, div = 2):\n",
    "    if num == div: return True\n",
    "    elif num % div == 0: return False\n",
    "    elif num == 1: return False\n",
    "    else: return is_prime(num, div + 1)"
   ]
  },
  {
   "cell_type": "code",
   "execution_count": 2,
   "id": "0722fd65",
   "metadata": {},
   "outputs": [
    {
     "data": {
      "text/plain": [
       "True"
      ]
     },
     "execution_count": 2,
     "metadata": {},
     "output_type": "execute_result"
    }
   ],
   "source": [
    "is_prime(907)"
   ]
  },
  {
   "cell_type": "code",
   "execution_count": 3,
   "id": "2f7a9790",
   "metadata": {},
   "outputs": [
    {
     "data": {
      "text/plain": [
       "False"
      ]
     },
     "execution_count": 3,
     "metadata": {},
     "output_type": "execute_result"
    }
   ],
   "source": [
    "is_prime(9)"
   ]
  },
  {
   "cell_type": "code",
   "execution_count": null,
   "id": "5f7f9306",
   "metadata": {},
   "outputs": [],
   "source": []
  }
 ],
 "metadata": {
  "kernelspec": {
   "display_name": "Python 3 (ipykernel)",
   "language": "python",
   "name": "python3"
  },
  "language_info": {
   "codemirror_mode": {
    "name": "ipython",
    "version": 3
   },
   "file_extension": ".py",
   "mimetype": "text/x-python",
   "name": "python",
   "nbconvert_exporter": "python",
   "pygments_lexer": "ipython3",
   "version": "3.9.0"
  }
 },
 "nbformat": 4,
 "nbformat_minor": 5
}
